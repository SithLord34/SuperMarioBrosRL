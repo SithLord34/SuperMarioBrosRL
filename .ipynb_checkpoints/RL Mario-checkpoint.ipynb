{
 "cells": [
  {
   "cell_type": "markdown",
   "id": "30a60498",
   "metadata": {},
   "source": [
    "# Setting up the environment"
   ]
  },
  {
   "cell_type": "code",
   "execution_count": null,
   "id": "5200da78",
   "metadata": {},
   "outputs": [],
   "source": [
    "#pip install gym-super-mario-bros==7.3.0 nes_py"
   ]
  },
  {
   "cell_type": "code",
   "execution_count": 18,
   "id": "c2fb9cb9",
   "metadata": {},
   "outputs": [],
   "source": [
    "# import the game\n",
    "import gym_super_mario_bros\n",
    "#import the jyypad wrapper\n",
    "from nes_py.wrappers import JoypadSpace\n",
    "#import the SIMPLIFLIED controls\n",
    "from gym_super_mario_bros.actions import SIMPLE_MOVEMENT"
   ]
  },
  {
   "cell_type": "code",
   "execution_count": 19,
   "id": "f7d82543",
   "metadata": {},
   "outputs": [
    {
     "data": {
      "text/plain": [
       "[['NOOP'],\n",
       " ['right'],\n",
       " ['right', 'A'],\n",
       " ['right', 'B'],\n",
       " ['right', 'A', 'B'],\n",
       " ['A'],\n",
       " ['left']]"
      ]
     },
     "execution_count": 19,
     "metadata": {},
     "output_type": "execute_result"
    }
   ],
   "source": [
    "SIMPLE_MOVEMENT"
   ]
  },
  {
   "cell_type": "markdown",
   "id": "3ee7c747",
   "metadata": {},
   "source": [
    "Setting up the game"
   ]
  },
  {
   "cell_type": "code",
   "execution_count": 20,
   "id": "c1c5422b",
   "metadata": {},
   "outputs": [
    {
     "name": "stderr",
     "output_type": "stream",
     "text": [
      "C:\\Users\\kingm\\anaconda3\\envs\\tfgpu\\lib\\site-packages\\gym\\envs\\registration.py:627: UserWarning: \u001b[33mWARN: The environment creator metadata doesn't include `render_modes`, contains: ['render.modes', 'video.frames_per_second']\u001b[0m\n",
      "  logger.warn(\n"
     ]
    }
   ],
   "source": [
    "env = gym_super_mario_bros.make('SuperMarioBros-v3',apply_api_compatibility=True, render_mode=\"human\")\n"
   ]
  },
  {
   "cell_type": "code",
   "execution_count": 21,
   "id": "44a87218",
   "metadata": {},
   "outputs": [],
   "source": [
    "env = JoypadSpace(env, SIMPLE_MOVEMENT)"
   ]
  },
  {
   "cell_type": "code",
   "execution_count": 22,
   "id": "5b3072ab",
   "metadata": {},
   "outputs": [
    {
     "data": {
      "text/plain": [
       "Discrete(7)"
      ]
     },
     "execution_count": 22,
     "metadata": {},
     "output_type": "execute_result"
    }
   ],
   "source": [
    "env.action_space"
   ]
  },
  {
   "cell_type": "code",
   "execution_count": 23,
   "id": "15404b0f",
   "metadata": {},
   "outputs": [
    {
     "data": {
      "text/plain": [
       "(240, 256, 3)"
      ]
     },
     "execution_count": 23,
     "metadata": {},
     "output_type": "execute_result"
    }
   ],
   "source": [
    "env.observation_space.shape"
   ]
  },
  {
   "cell_type": "code",
   "execution_count": 24,
   "id": "f496bc67",
   "metadata": {},
   "outputs": [
    {
     "data": {
      "text/plain": [
       "5"
      ]
     },
     "execution_count": 24,
     "metadata": {},
     "output_type": "execute_result"
    }
   ],
   "source": [
    "env.action_space.sample()"
   ]
  },
  {
   "cell_type": "code",
   "execution_count": null,
   "id": "bc5468fe",
   "metadata": {},
   "outputs": [],
   "source": [
    "#  first we create a flag called done which specifies restart or not\n",
    "done = True\n",
    "env.reset()\n",
    "for step in range(100000):\n",
    "    action = env.action_space.sample()\n",
    "    state, reward, terminated, truncated, info = env.step(action)\n",
    "    done = terminated or truncated\n",
    "\n",
    "    if done:\n",
    "       env.reset()\n",
    "env.close()"
   ]
  },
  {
   "cell_type": "code",
   "execution_count": null,
   "id": "e3fd778d",
   "metadata": {},
   "outputs": [],
   "source": [
    "env.close()"
   ]
  },
  {
   "cell_type": "markdown",
   "id": "9876ebc4",
   "metadata": {},
   "source": [
    "if getting access violation reading error then just restart the kernal and run everything again, but first call env.reset()"
   ]
  },
  {
   "cell_type": "code",
   "execution_count": 25,
   "id": "98b1a395",
   "metadata": {},
   "outputs": [
    {
     "data": {
      "text/plain": [
       "(array([[[104, 136, 252],\n",
       "         [104, 136, 252],\n",
       "         [104, 136, 252],\n",
       "         ...,\n",
       "         [104, 136, 252],\n",
       "         [104, 136, 252],\n",
       "         [104, 136, 252]],\n",
       " \n",
       "        [[104, 136, 252],\n",
       "         [104, 136, 252],\n",
       "         [104, 136, 252],\n",
       "         ...,\n",
       "         [104, 136, 252],\n",
       "         [104, 136, 252],\n",
       "         [104, 136, 252]],\n",
       " \n",
       "        [[104, 136, 252],\n",
       "         [104, 136, 252],\n",
       "         [104, 136, 252],\n",
       "         ...,\n",
       "         [104, 136, 252],\n",
       "         [104, 136, 252],\n",
       "         [104, 136, 252]],\n",
       " \n",
       "        ...,\n",
       " \n",
       "        [[228,  92,  16],\n",
       "         [228,  92,  16],\n",
       "         [228,  92,  16],\n",
       "         ...,\n",
       "         [228,  92,  16],\n",
       "         [228,  92,  16],\n",
       "         [228,  92,  16]],\n",
       " \n",
       "        [[228,  92,  16],\n",
       "         [228,  92,  16],\n",
       "         [228,  92,  16],\n",
       "         ...,\n",
       "         [228,  92,  16],\n",
       "         [228,  92,  16],\n",
       "         [228,  92,  16]],\n",
       " \n",
       "        [[228,  92,  16],\n",
       "         [228,  92,  16],\n",
       "         [228,  92,  16],\n",
       "         ...,\n",
       "         [228,  92,  16],\n",
       "         [228,  92,  16],\n",
       "         [228,  92,  16]]], dtype=uint8),\n",
       " {})"
      ]
     },
     "execution_count": 25,
     "metadata": {},
     "output_type": "execute_result"
    }
   ],
   "source": [
    "env.reset()"
   ]
  },
  {
   "cell_type": "code",
   "execution_count": 26,
   "id": "90ab53a3",
   "metadata": {},
   "outputs": [
    {
     "name": "stderr",
     "output_type": "stream",
     "text": [
      "C:\\Users\\kingm\\anaconda3\\envs\\tfgpu\\lib\\site-packages\\gym\\utils\\passive_env_checker.py:233: DeprecationWarning: `np.bool8` is a deprecated alias for `np.bool_`.  (Deprecated NumPy 1.24)\n",
      "  if not isinstance(terminated, (bool, np.bool8)):\n"
     ]
    },
    {
     "data": {
      "text/plain": [
       "0.0"
      ]
     },
     "execution_count": 26,
     "metadata": {},
     "output_type": "execute_result"
    }
   ],
   "source": [
    "env.step(1)[1]"
   ]
  },
  {
   "cell_type": "code",
   "execution_count": 27,
   "id": "8a3b06b4",
   "metadata": {},
   "outputs": [
    {
     "data": {
      "text/plain": [
       "{'coins': 0,\n",
       " 'flag_get': False,\n",
       " 'life': 2,\n",
       " 'score': 0,\n",
       " 'stage': 1,\n",
       " 'status': 'small',\n",
       " 'time': 400,\n",
       " 'world': 1,\n",
       " 'x_pos': 40,\n",
       " 'x_pos_screen': 40,\n",
       " 'y_pos': 79}"
      ]
     },
     "execution_count": 27,
     "metadata": {},
     "output_type": "execute_result"
    }
   ],
   "source": [
    "env.step(1)[4]"
   ]
  },
  {
   "cell_type": "markdown",
   "id": "7a2c5c96",
   "metadata": {},
   "source": [
    "# Preprocessing the model\n"
   ]
  },
  {
   "cell_type": "code",
   "execution_count": 28,
   "id": "27af5710",
   "metadata": {},
   "outputs": [],
   "source": [
    "# Import Frame Stacker Wrapper and GrayScaling Wrapper\n",
    "from gym.wrappers import GrayScaleObservation\n",
    "# Import Vectorization Wrappers\n",
    "from stable_baselines3.common.vec_env import VecFrameStack, DummyVecEnv\n",
    "# Import Matplotlib to show the impact of frame stacking\n",
    "from matplotlib import pyplot as plt"
   ]
  },
  {
   "cell_type": "code",
   "execution_count": 29,
   "id": "c24d6656",
   "metadata": {},
   "outputs": [],
   "source": [
    "# 1. Create the base environment\n",
    "env = gym_super_mario_bros.make('SuperMarioBros-v3')\n",
    "\n",
    "# 2. Simplify the controls \n",
    "JoypadSpace.reset = lambda self, **kwargs: self.env.reset(**kwargs)\n",
    "env = JoypadSpace(env, SIMPLE_MOVEMENT)\n"
   ]
  },
  {
   "cell_type": "markdown",
   "id": "225e6145",
   "metadata": {},
   "source": [
    "### To visulize it :-"
   ]
  },
  {
   "cell_type": "code",
   "execution_count": null,
   "id": "564aaad8",
   "metadata": {},
   "outputs": [],
   "source": []
  },
  {
   "cell_type": "code",
   "execution_count": 30,
   "id": "c1991044",
   "metadata": {},
   "outputs": [],
   "source": [
    "state= env.reset()"
   ]
  },
  {
   "cell_type": "code",
   "execution_count": 31,
   "id": "a275f276",
   "metadata": {},
   "outputs": [
    {
     "data": {
      "text/plain": [
       "<matplotlib.image.AxesImage at 0x1c65be04c40>"
      ]
     },
     "execution_count": 31,
     "metadata": {},
     "output_type": "execute_result"
    },
    {
     "data": {
      "image/png": "[encoded data removed]",
      "text/plain": [
       "<Figure size 640x480 with 1 Axes>"
      ]
     },
     "metadata": {},
     "output_type": "display_data"
    }
   ],
   "source": [
    "plt.imshow(state) # just in color frame not grascaled yet"
   ]
  },
  {
   "cell_type": "markdown",
   "id": "ba418ad4",
   "metadata": {},
   "source": [
    "### Further preprocessing:-"
   ]
  },
  {
   "cell_type": "code",
   "execution_count": 32,
   "id": "5590fccd",
   "metadata": {},
   "outputs": [],
   "source": [
    "# 3. Grayscale\n",
    "env = GrayScaleObservation(env, keep_dim=True)\n"
   ]
  },
  {
   "cell_type": "markdown",
   "id": "a488b2f8",
   "metadata": {},
   "source": [
    "After executing env = GrayScaleObservation(env, keep_dim=True),\n",
    "tis --> state = env.reset was returing an error :-\n",
    "File ~/.pyenv/versions/3.10.6/envs/lewagon/lib/python3.10/site-packages/gym/core.py:379, in ObservationWrapper.reset(self, **kwargs)\n",
    "    377 def reset(self, **kwargs):\n",
    "    378     &quot;&quot;&quot;Resets the environment, returning a modified observation using :meth:`self.observation`.&quot;&quot;&quot;\n",
    "--&gt; 379     obs, info = self.env.reset(**kwargs)\n",
    "    380     return self.observation(obs), info\n",
    "    ValueError: too many values to unpack (expected 2),\n",
    "\n",
    "this cannot be solved using workaround. Solution mentiojned in game info."
   ]
  },
  {
   "cell_type": "code",
   "execution_count": 33,
   "id": "27035947",
   "metadata": {},
   "outputs": [
    {
     "ename": "ValueError",
     "evalue": "too many values to unpack (expected 2)",
     "output_type": "error",
     "traceback": [
      "\u001b[1;31m---------------------------------------------------------------------------\u001b[0m",
      "\u001b[1;31mValueError\u001b[0m                                Traceback (most recent call last)",
      "Cell \u001b[1;32mIn[33], line 1\u001b[0m\n\u001b[1;32m----> 1\u001b[0m state\u001b[38;5;241m=\u001b[39m \u001b[43menv\u001b[49m\u001b[38;5;241;43m.\u001b[39;49m\u001b[43mreset\u001b[49m\u001b[43m(\u001b[49m\u001b[43m)\u001b[49m\n",
      "File \u001b[1;32m~\\anaconda3\\envs\\tfgpu\\lib\\site-packages\\gym\\core.py:379\u001b[0m, in \u001b[0;36mObservationWrapper.reset\u001b[1;34m(self, **kwargs)\u001b[0m\n\u001b[0;32m    377\u001b[0m \u001b[38;5;28;01mdef\u001b[39;00m \u001b[38;5;21mreset\u001b[39m(\u001b[38;5;28mself\u001b[39m, \u001b[38;5;241m*\u001b[39m\u001b[38;5;241m*\u001b[39mkwargs):\n\u001b[0;32m    378\u001b[0m \u001b[38;5;250m    \u001b[39m\u001b[38;5;124;03m\"\"\"Resets the environment, returning a modified observation using :meth:`self.observation`.\"\"\"\u001b[39;00m\n\u001b[1;32m--> 379\u001b[0m     obs, info\u001b[38;5;241m=\u001b[39m \u001b[38;5;28mself\u001b[39m\u001b[38;5;241m.\u001b[39menv\u001b[38;5;241m.\u001b[39mreset(\u001b[38;5;241m*\u001b[39m\u001b[38;5;241m*\u001b[39mkwargs)\n\u001b[0;32m    380\u001b[0m     \u001b[38;5;28;01mreturn\u001b[39;00m \u001b[38;5;28mself\u001b[39m\u001b[38;5;241m.\u001b[39mobservation(obs), info\n",
      "\u001b[1;31mValueError\u001b[0m: too many values to unpack (expected 2)"
     ]
    }
   ],
   "source": [
    "state= env.reset()"
   ]
  },
  {
   "cell_type": "markdown",
   "id": "1847c88b",
   "metadata": {},
   "source": [
    "( Do not execute this cell)\n",
    "After executing env = GrayScaleObservation(env, keep_dim=True),\n",
    "tis --> state = env.reset was returing an error :-\n",
    "File ~/.pyenv/versions/3.10.6/envs/lewagon/lib/python3.10/site-packages/gym/core.py:379, in ObservationWrapper.reset(self, **kwargs)\n",
    "    377 def reset(self, **kwargs):\n",
    "    378     &quot;&quot;&quot;Resets the environment, returning a modified observation using :meth:`self.observation`.&quot;&quot;&quot;\n",
    "--&gt; 379     obs, info = self.env.reset(**kwargs)\n",
    "    380     return self.observation(obs), info\n",
    "    ValueError: too many values to unpack (expected 2),\n",
    "\n",
    "this cannot be solved using workaround. Solution mentiojned in game info."
   ]
  },
  {
   "cell_type": "code",
   "execution_count": null,
   "id": "0b5fc4ff",
   "metadata": {},
   "outputs": [],
   "source": [
    "plt.imshow(state) # greyscaled"
   ]
  },
  {
   "cell_type": "markdown",
   "id": "d0203335",
   "metadata": {},
   "source": [
    "### Further Preprocessing:-\n"
   ]
  },
  {
   "cell_type": "code",
   "execution_count": null,
   "id": "c94b8b7c",
   "metadata": {},
   "outputs": [],
   "source": [
    "# 4. Wrap inside the Dummy Environment\n",
    "env = DummyVecEnv([lambda: env])"
   ]
  },
  {
   "cell_type": "code",
   "execution_count": null,
   "id": "e8ba4614",
   "metadata": {},
   "outputs": [],
   "source": [
    "state= env.reset()"
   ]
  },
  {
   "cell_type": "code",
   "execution_count": null,
   "id": "b051221e",
   "metadata": {},
   "outputs": [],
   "source": []
  }
 ],
 "metadata": {
  "kernelspec": {
   "display_name": "Python 3 (ipykernel)",
   "language": "python",
   "name": "python3"
  },
  "language_info": {
   "codemirror_mode": {
    "name": "ipython",
    "version": 3
   },
   "file_extension": ".py",
   "mimetype": "text/x-python",
   "name": "python",
   "nbconvert_exporter": "python",
   "pygments_lexer": "ipython3",
   "version": "3.8.17"
  }
 },
 "nbformat": 4,
 "nbformat_minor": 5
}
